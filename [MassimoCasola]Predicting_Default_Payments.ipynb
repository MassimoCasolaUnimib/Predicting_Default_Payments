{
  "nbformat": 4,
  "nbformat_minor": 0,
  "metadata": {
    "kernelspec": {
      "display_name": "Python 3",
      "language": "python",
      "name": "python3"
    },
    "language_info": {
      "codemirror_mode": {
        "name": "ipython",
        "version": 3
      },
      "file_extension": ".py",
      "mimetype": "text/x-python",
      "name": "python",
      "nbconvert_exporter": "python",
      "pygments_lexer": "ipython3",
      "version": "3.6.4"
    },
    "colab": {
      "name": "[MassimoCasola]Predicting_Default_Payments.ipynb",
      "provenance": [],
      "collapsed_sections": [
        "1IVbZVDr2oU0"
      ],
      "include_colab_link": true
    }
  },
  "cells": [
    {
      "cell_type": "markdown",
      "metadata": {
        "id": "view-in-github",
        "colab_type": "text"
      },
      "source": [
        "<a href=\"https://colab.research.google.com/github/MassimoCasolaUnimib/Predicting_Default_Payments/blob/main/%5BMassimoCasola%5DPredicting_Default_Payments.ipynb\" target=\"_parent\"><img src=\"https://colab.research.google.com/assets/colab-badge.svg\" alt=\"Open In Colab\"/></a>"
      ]
    },
    {
      "cell_type": "markdown",
      "metadata": {
        "id": "FH5ja_uiJbr6"
      },
      "source": [
        "# Predicting Default Payments with Fully-Connected NNs\n",
        "\n",
        "The dataset contains information on default payments, demographic factors, credit data, history of payment, and bill statements of credit card clients in Taiwan from April 2005 to September 2005. "
      ]
    },
    {
      "cell_type": "markdown",
      "metadata": {
        "id": "1IVbZVDr2oU0"
      },
      "source": [
        "# Library"
      ]
    },
    {
      "cell_type": "code",
      "metadata": {
        "id": "seiqaCGe2sdR"
      },
      "source": [
        "%matplotlib inline\n",
        "\n",
        "import numpy as np\n",
        "\n",
        "from sklearn import datasets  \n",
        "from sklearn.model_selection import train_test_split\n",
        "from sklearn import preprocessing\n",
        "from sklearn.preprocessing import StandardScaler\n",
        "import pandas as pd\n",
        "import tensorflow\n",
        "from keras.models import Sequential\n",
        "#just import some random layers\n",
        "from keras.layers.core import Dense, Dropout, Activation, Flatten\n",
        "from keras.layers.noise import GaussianNoise\n",
        "from keras.layers.advanced_activations import PReLU\n",
        "from keras.utils import np_utils"
      ],
      "execution_count": 26,
      "outputs": []
    },
    {
      "cell_type": "markdown",
      "metadata": {
        "id": "2Tk-exvCXd2j"
      },
      "source": [
        "#Upload data"
      ]
    },
    {
      "cell_type": "code",
      "metadata": {
        "id": "CzsgY_3BXoXe"
      },
      "source": [
        "X_train=pd.read_csv('X_train.csv')\n",
        "Y_train=pd.read_csv('y_train.csv')\n",
        "X_test=pd.read_csv('X_test.csv')"
      ],
      "execution_count": 101,
      "outputs": []
    },
    {
      "cell_type": "code",
      "metadata": {
        "id": "3ahqcxJOX6lM"
      },
      "source": [
        "\"\"\"\n",
        "Se non dovessero essere presenti i 3 file è possibile caricarli anche in questo modo:\n",
        "from google.colab import files\n",
        "uploaded = files.upload()\n",
        "import io\n",
        "X_test = pd.read_csv(io.BytesIO(uploaded['X_test.csv']))\n",
        "X_train = pd.read_csv(io.BytesIO(uploaded['X_train.csv']))\n",
        "Y_train = pd.read_csv(io.BytesIO(uploaded['y_train.csv']))\n",
        "\"\"\""
      ],
      "execution_count": null,
      "outputs": []
    },
    {
      "cell_type": "code",
      "metadata": {
        "id": "85Xf_giZYMCc"
      },
      "source": [
        "x_train=X_train.copy()\n",
        "y_train=Y_train.copy()\n",
        "x_test=X_test.copy()"
      ],
      "execution_count": 102,
      "outputs": []
    },
    {
      "cell_type": "markdown",
      "metadata": {
        "id": "0-FgzT_cJbsH"
      },
      "source": [
        "#Inspecting the data\n"
      ]
    },
    {
      "cell_type": "code",
      "metadata": {
        "colab": {
          "base_uri": "https://localhost:8080/"
        },
        "id": "BnG7HJ3sYumz",
        "outputId": "27511f73-2353-4eb2-b860-66759452589b"
      },
      "source": [
        "#I dati sono uguali: corretto\n",
        "x_train.shape,y_train.shape,x_test.shape"
      ],
      "execution_count": 103,
      "outputs": [
        {
          "output_type": "execute_result",
          "data": {
            "text/plain": [
              "((24000, 24), (24000, 2), (6000, 24))"
            ]
          },
          "metadata": {},
          "execution_count": 103
        }
      ]
    },
    {
      "cell_type": "code",
      "metadata": {
        "colab": {
          "base_uri": "https://localhost:8080/"
        },
        "id": "J_pIh4uesRhR",
        "outputId": "2c63d4a8-2cc9-4bb6-dbe8-a33c38ebb6ec"
      },
      "source": [
        "num_zeros = (y_train == 0).sum()\n",
        "num_ones = (y_train == 1).sum()\n",
        "num_zeros,num_ones"
      ],
      "execution_count": 104,
      "outputs": [
        {
          "output_type": "execute_result",
          "data": {
            "text/plain": [
              "(ID                                0\n",
              " default.payment.next.month    18677\n",
              " dtype: int64, ID                               1\n",
              " default.payment.next.month    5323\n",
              " dtype: int64)"
            ]
          },
          "metadata": {},
          "execution_count": 104
        }
      ]
    },
    {
      "cell_type": "code",
      "metadata": {
        "id": "8vSiz47HXYYM",
        "colab": {
          "base_uri": "https://localhost:8080/"
        },
        "outputId": "d4e54fad-29fd-4e31-a3c5-22f234134939"
      },
      "source": [
        "print(\"Nessun nullo in x_train:\",x_train.any().any())\n",
        "print(\"Nessun nullo in y_train:\",y_train.any().any())\n",
        "print(\"Nessun nullo in x_test:\",x_test.any().any())\n",
        "#Nessun nullo:corretto"
      ],
      "execution_count": 30,
      "outputs": [
        {
          "output_type": "stream",
          "name": "stdout",
          "text": [
            "Nessun nullo in x_train: True\n",
            "Nessun nullo in y_train: True\n",
            "Nessun nullo in x_test: True\n"
          ]
        }
      ]
    },
    {
      "cell_type": "markdown",
      "metadata": {
        "id": "PjWrQr5vWTTG"
      },
      "source": [
        "## Preparing the data\n",
        "\n"
      ]
    },
    {
      "cell_type": "markdown",
      "metadata": {
        "id": "scXzqNK4Zl1V"
      },
      "source": [
        "Non conoscendo i dominio elimino solo i campi evidentemente non funzionali all'obbiettivo."
      ]
    },
    {
      "cell_type": "code",
      "metadata": {
        "id": "J84aUJVUJbsI"
      },
      "source": [
        "#Delete id column\n",
        "y_train.drop('ID',axis=1,inplace=True)\n",
        "x_train.drop('ID',axis=1,inplace=True)\n",
        "x_test.drop('ID',axis=1,inplace=True)"
      ],
      "execution_count": 31,
      "outputs": []
    },
    {
      "cell_type": "markdown",
      "metadata": {
        "id": "Rxp-pfIwaVkF"
      },
      "source": [
        "Standardizzazione. Ho potuto constatare che senza il modello ha un accuracy del 3% inferiore."
      ]
    },
    {
      "cell_type": "code",
      "metadata": {
        "id": "1cIssYhJagfV"
      },
      "source": [
        "x = x_train.values #returns a numpy array\n",
        "min_max_scaler = preprocessing.MinMaxScaler()\n",
        "x_scaled = min_max_scaler.fit_transform(x)\n",
        "x_train = pd.DataFrame(x_scaled)\n",
        "\n",
        "x = x_test.values #returns a numpy array\n",
        "min_max_scaler = preprocessing.MinMaxScaler()\n",
        "x_scaled = min_max_scaler.fit_transform(x)\n",
        "x_test = pd.DataFrame(x_scaled)\n"
      ],
      "execution_count": 32,
      "outputs": []
    },
    {
      "cell_type": "markdown",
      "metadata": {
        "id": "g-TCLBkAewEN"
      },
      "source": [
        "Creo un set per testare il modello"
      ]
    },
    {
      "cell_type": "code",
      "metadata": {
        "id": "Bb7w7iq3evkc"
      },
      "source": [
        "x_train, x_train_test, y_train, y_train_test = train_test_split(x_train, y_train, test_size=0.2, random_state=0)"
      ],
      "execution_count": 33,
      "outputs": []
    },
    {
      "cell_type": "code",
      "metadata": {
        "colab": {
          "base_uri": "https://localhost:8080/"
        },
        "id": "qqwgmJLZfAH_",
        "outputId": "73db2383-fde8-4641-a2f0-65abe3bb022f"
      },
      "source": [
        "x_train.shape,y_train.shape,y_train_test.shape,y_train_test.shape\n",
        "#Il teste è del 20%"
      ],
      "execution_count": 34,
      "outputs": [
        {
          "output_type": "execute_result",
          "data": {
            "text/plain": [
              "((19200, 23), (19200, 1), (4800, 1), (4800, 1))"
            ]
          },
          "metadata": {},
          "execution_count": 34
        }
      ]
    },
    {
      "cell_type": "markdown",
      "metadata": {
        "id": "Eb9aljYxJbsK"
      },
      "source": [
        "# Building the network"
      ]
    },
    {
      "cell_type": "markdown",
      "metadata": {
        "id": "H3ZrdF4KcDAr"
      },
      "source": [
        "Il modello ha 3 hidden layers, che \"stringono\" verso l'output.\n",
        "Come optimizer il miglior risultato l'ho raggiunto con l'iperparametro \"rmsprop\" e la funzione di loss \"binary_crossentropy\".\n",
        "Il batch_size con cui ho raggiunto il miglior risultato è 8."
      ]
    },
    {
      "cell_type": "code",
      "metadata": {
        "id": "AS3zsRlBYHKW"
      },
      "source": [
        "# For a single-input model with 2 classes (binary classification):\n",
        "\n",
        "# init model\n",
        "model = Sequential()\n",
        "\n",
        "# FC @ 64, non-linear\n",
        "model.add(Dense(64,activation='relu',input_shape=(x_train.shape[1],)))\n",
        "\n",
        "# FC @ 32, non linear\n",
        "model.add(Dense(32, activation='relu'))\n",
        "\n",
        "# FC @ 16, non linear\n",
        "model.add(Dense(16,activation='relu'))\n",
        "\n",
        "# output layer (nb_classes) -- what is the activation function in this case??\n",
        "model.add(Dense(1, activation='sigmoid'))\n",
        "\n",
        "\n",
        "\n",
        "# compile: optimizer & losses/metrics\n",
        "model.compile(optimizer='rmsprop',\n",
        "              loss='binary_crossentropy',\n",
        "              metrics=['accuracy'])\n",
        "\n"
      ],
      "execution_count": 35,
      "outputs": []
    },
    {
      "cell_type": "code",
      "metadata": {
        "colab": {
          "base_uri": "https://localhost:8080/"
        },
        "id": "MFSZ6wBJb7EX",
        "outputId": "7df002d7-c972-46d6-a1f6-2562c2a11951"
      },
      "source": [
        "model.summary()"
      ],
      "execution_count": 36,
      "outputs": [
        {
          "output_type": "stream",
          "name": "stdout",
          "text": [
            "Model: \"sequential_1\"\n",
            "_________________________________________________________________\n",
            "Layer (type)                 Output Shape              Param #   \n",
            "=================================================================\n",
            "dense_4 (Dense)              (None, 64)                1536      \n",
            "_________________________________________________________________\n",
            "dense_5 (Dense)              (None, 32)                2080      \n",
            "_________________________________________________________________\n",
            "dense_6 (Dense)              (None, 16)                528       \n",
            "_________________________________________________________________\n",
            "dense_7 (Dense)              (None, 1)                 17        \n",
            "=================================================================\n",
            "Total params: 4,161\n",
            "Trainable params: 4,161\n",
            "Non-trainable params: 0\n",
            "_________________________________________________________________\n"
          ]
        }
      ]
    },
    {
      "cell_type": "code",
      "metadata": {
        "colab": {
          "base_uri": "https://localhost:8080/"
        },
        "id": "fNMlYEVvcpBw",
        "outputId": "b094a1e6-ae82-47f4-9fa8-ed26759d3484"
      },
      "source": [
        "n_epochs = 100\n",
        "batch_size = 8 \n",
        "history = model.fit(x_train, y_train, epochs=n_epochs, batch_size=batch_size, validation_split = 0.3)  "
      ],
      "execution_count": 40,
      "outputs": [
        {
          "output_type": "stream",
          "name": "stdout",
          "text": [
            "Epoch 1/100\n",
            "1680/1680 [==============================] - 3s 2ms/step - loss: 0.4626 - accuracy: 0.8214 - val_loss: 0.4970 - val_accuracy: 0.8132\n",
            "Epoch 2/100\n",
            "1680/1680 [==============================] - 3s 2ms/step - loss: 0.4653 - accuracy: 0.8188 - val_loss: 0.4753 - val_accuracy: 0.8198\n",
            "Epoch 3/100\n",
            "1680/1680 [==============================] - 3s 2ms/step - loss: 0.4602 - accuracy: 0.8198 - val_loss: 0.4603 - val_accuracy: 0.8210\n",
            "Epoch 4/100\n",
            "1680/1680 [==============================] - 3s 2ms/step - loss: 0.4574 - accuracy: 0.8206 - val_loss: 0.4866 - val_accuracy: 0.8220\n",
            "Epoch 5/100\n",
            "1680/1680 [==============================] - 3s 2ms/step - loss: 0.4589 - accuracy: 0.8188 - val_loss: 0.4745 - val_accuracy: 0.8231\n",
            "Epoch 6/100\n",
            "1680/1680 [==============================] - 3s 2ms/step - loss: 0.4539 - accuracy: 0.8199 - val_loss: 0.4519 - val_accuracy: 0.8200\n",
            "Epoch 7/100\n",
            "1680/1680 [==============================] - 3s 2ms/step - loss: 0.4524 - accuracy: 0.8203 - val_loss: 0.4648 - val_accuracy: 0.8191\n",
            "Epoch 8/100\n",
            "1680/1680 [==============================] - 3s 2ms/step - loss: 0.4539 - accuracy: 0.8200 - val_loss: 0.4785 - val_accuracy: 0.8210\n",
            "Epoch 9/100\n",
            "1680/1680 [==============================] - 3s 2ms/step - loss: 0.4517 - accuracy: 0.8199 - val_loss: 0.4599 - val_accuracy: 0.8205\n",
            "Epoch 10/100\n",
            "1680/1680 [==============================] - 3s 2ms/step - loss: 0.4525 - accuracy: 0.8196 - val_loss: 0.4782 - val_accuracy: 0.8203\n",
            "Epoch 11/100\n",
            "1680/1680 [==============================] - 3s 2ms/step - loss: 0.4567 - accuracy: 0.8226 - val_loss: 0.4698 - val_accuracy: 0.8231\n",
            "Epoch 12/100\n",
            "1680/1680 [==============================] - 3s 2ms/step - loss: 0.4570 - accuracy: 0.8202 - val_loss: 0.4812 - val_accuracy: 0.8241\n",
            "Epoch 13/100\n",
            "1680/1680 [==============================] - 3s 2ms/step - loss: 0.4582 - accuracy: 0.8185 - val_loss: 0.4840 - val_accuracy: 0.8210\n",
            "Epoch 14/100\n",
            "1680/1680 [==============================] - 3s 2ms/step - loss: 0.4566 - accuracy: 0.8204 - val_loss: 0.4677 - val_accuracy: 0.8207\n",
            "Epoch 15/100\n",
            "1680/1680 [==============================] - 3s 2ms/step - loss: 0.4576 - accuracy: 0.8188 - val_loss: 0.4802 - val_accuracy: 0.8210\n",
            "Epoch 16/100\n",
            "1680/1680 [==============================] - 3s 2ms/step - loss: 0.4566 - accuracy: 0.8222 - val_loss: 0.4699 - val_accuracy: 0.8252\n",
            "Epoch 17/100\n",
            "1680/1680 [==============================] - 3s 2ms/step - loss: 0.4562 - accuracy: 0.8205 - val_loss: 0.4610 - val_accuracy: 0.8229\n",
            "Epoch 18/100\n",
            "1680/1680 [==============================] - 3s 2ms/step - loss: 0.4542 - accuracy: 0.8217 - val_loss: 0.4685 - val_accuracy: 0.8191\n",
            "Epoch 19/100\n",
            "1680/1680 [==============================] - 3s 2ms/step - loss: 0.4573 - accuracy: 0.8204 - val_loss: 0.4902 - val_accuracy: 0.8175\n",
            "Epoch 20/100\n",
            "1680/1680 [==============================] - 3s 2ms/step - loss: 0.4578 - accuracy: 0.8201 - val_loss: 0.4967 - val_accuracy: 0.8196\n",
            "Epoch 21/100\n",
            "1680/1680 [==============================] - 4s 2ms/step - loss: 0.4588 - accuracy: 0.8206 - val_loss: 0.4734 - val_accuracy: 0.8066\n",
            "Epoch 22/100\n",
            "1680/1680 [==============================] - 4s 2ms/step - loss: 0.4612 - accuracy: 0.8208 - val_loss: 0.4598 - val_accuracy: 0.8201\n",
            "Epoch 23/100\n",
            "1680/1680 [==============================] - 4s 2ms/step - loss: 0.4599 - accuracy: 0.8215 - val_loss: 0.4962 - val_accuracy: 0.8203\n",
            "Epoch 24/100\n",
            "1680/1680 [==============================] - 3s 2ms/step - loss: 0.4599 - accuracy: 0.8203 - val_loss: 0.4603 - val_accuracy: 0.8217\n",
            "Epoch 25/100\n",
            "1680/1680 [==============================] - 3s 2ms/step - loss: 0.4573 - accuracy: 0.8217 - val_loss: 0.4794 - val_accuracy: 0.8222\n",
            "Epoch 26/100\n",
            "1680/1680 [==============================] - 3s 2ms/step - loss: 0.4582 - accuracy: 0.8196 - val_loss: 0.4529 - val_accuracy: 0.8220\n",
            "Epoch 27/100\n",
            "1680/1680 [==============================] - 4s 2ms/step - loss: 0.4568 - accuracy: 0.8222 - val_loss: 0.4683 - val_accuracy: 0.8234\n",
            "Epoch 28/100\n",
            "1680/1680 [==============================] - 3s 2ms/step - loss: 0.4612 - accuracy: 0.8204 - val_loss: 0.4603 - val_accuracy: 0.8174\n",
            "Epoch 29/100\n",
            "1680/1680 [==============================] - 3s 2ms/step - loss: 0.4593 - accuracy: 0.8207 - val_loss: 0.4667 - val_accuracy: 0.8238\n",
            "Epoch 30/100\n",
            "1680/1680 [==============================] - 4s 2ms/step - loss: 0.4604 - accuracy: 0.8202 - val_loss: 0.4700 - val_accuracy: 0.8198\n",
            "Epoch 31/100\n",
            "1680/1680 [==============================] - 3s 2ms/step - loss: 0.4599 - accuracy: 0.8208 - val_loss: 0.4926 - val_accuracy: 0.8189\n",
            "Epoch 32/100\n",
            "1680/1680 [==============================] - 3s 2ms/step - loss: 0.4676 - accuracy: 0.8221 - val_loss: 0.4628 - val_accuracy: 0.8236\n",
            "Epoch 33/100\n",
            "1680/1680 [==============================] - 3s 2ms/step - loss: 0.4628 - accuracy: 0.8214 - val_loss: 0.4826 - val_accuracy: 0.8224\n",
            "Epoch 34/100\n",
            "1680/1680 [==============================] - 3s 2ms/step - loss: 0.4624 - accuracy: 0.8202 - val_loss: 0.4802 - val_accuracy: 0.8227\n",
            "Epoch 35/100\n",
            "1680/1680 [==============================] - 3s 2ms/step - loss: 0.4674 - accuracy: 0.8192 - val_loss: 0.4709 - val_accuracy: 0.8203\n",
            "Epoch 36/100\n",
            "1680/1680 [==============================] - 3s 2ms/step - loss: 0.4641 - accuracy: 0.8220 - val_loss: 0.4673 - val_accuracy: 0.8226\n",
            "Epoch 37/100\n",
            "1680/1680 [==============================] - 3s 2ms/step - loss: 0.4676 - accuracy: 0.8225 - val_loss: 0.4640 - val_accuracy: 0.8229\n",
            "Epoch 38/100\n",
            "1680/1680 [==============================] - 3s 2ms/step - loss: 0.4610 - accuracy: 0.8214 - val_loss: 0.4690 - val_accuracy: 0.8248\n",
            "Epoch 39/100\n",
            "1680/1680 [==============================] - 3s 2ms/step - loss: 0.4632 - accuracy: 0.8211 - val_loss: 0.4921 - val_accuracy: 0.8243\n",
            "Epoch 40/100\n",
            "1680/1680 [==============================] - 3s 2ms/step - loss: 0.4690 - accuracy: 0.8211 - val_loss: 0.4733 - val_accuracy: 0.8175\n",
            "Epoch 41/100\n",
            "1680/1680 [==============================] - 4s 2ms/step - loss: 0.4682 - accuracy: 0.8203 - val_loss: 0.4917 - val_accuracy: 0.8236\n",
            "Epoch 42/100\n",
            "1680/1680 [==============================] - 3s 2ms/step - loss: 0.4687 - accuracy: 0.8228 - val_loss: 0.4665 - val_accuracy: 0.8226\n",
            "Epoch 43/100\n",
            "1680/1680 [==============================] - 3s 2ms/step - loss: 0.4632 - accuracy: 0.8213 - val_loss: 0.4845 - val_accuracy: 0.8233\n",
            "Epoch 44/100\n",
            "1680/1680 [==============================] - 3s 2ms/step - loss: 0.4652 - accuracy: 0.8213 - val_loss: 0.4970 - val_accuracy: 0.8198\n",
            "Epoch 45/100\n",
            "1680/1680 [==============================] - 3s 2ms/step - loss: 0.4658 - accuracy: 0.8217 - val_loss: 0.4684 - val_accuracy: 0.8194\n",
            "Epoch 46/100\n",
            "1680/1680 [==============================] - 3s 2ms/step - loss: 0.4571 - accuracy: 0.8195 - val_loss: 0.4840 - val_accuracy: 0.8179\n",
            "Epoch 47/100\n",
            "1680/1680 [==============================] - 3s 2ms/step - loss: 0.4646 - accuracy: 0.8199 - val_loss: 0.4737 - val_accuracy: 0.8196\n",
            "Epoch 48/100\n",
            "1680/1680 [==============================] - 3s 2ms/step - loss: 0.4622 - accuracy: 0.8205 - val_loss: 0.4770 - val_accuracy: 0.8203\n",
            "Epoch 49/100\n",
            "1680/1680 [==============================] - 3s 2ms/step - loss: 0.4605 - accuracy: 0.8197 - val_loss: 0.4861 - val_accuracy: 0.8191\n",
            "Epoch 50/100\n",
            "1680/1680 [==============================] - 3s 2ms/step - loss: 0.4706 - accuracy: 0.8179 - val_loss: 0.4689 - val_accuracy: 0.8194\n",
            "Epoch 51/100\n",
            "1680/1680 [==============================] - 3s 2ms/step - loss: 0.4581 - accuracy: 0.8176 - val_loss: 0.5225 - val_accuracy: 0.8189\n",
            "Epoch 52/100\n",
            "1680/1680 [==============================] - 4s 2ms/step - loss: 0.4758 - accuracy: 0.8205 - val_loss: 0.4826 - val_accuracy: 0.8220\n",
            "Epoch 53/100\n",
            "1680/1680 [==============================] - 3s 2ms/step - loss: 0.4694 - accuracy: 0.8197 - val_loss: 0.4779 - val_accuracy: 0.8219\n",
            "Epoch 54/100\n",
            "1680/1680 [==============================] - 3s 2ms/step - loss: 0.4652 - accuracy: 0.8193 - val_loss: 0.4697 - val_accuracy: 0.8215\n",
            "Epoch 55/100\n",
            "1680/1680 [==============================] - 3s 2ms/step - loss: 0.4740 - accuracy: 0.8189 - val_loss: 0.4815 - val_accuracy: 0.8155\n",
            "Epoch 56/100\n",
            "1680/1680 [==============================] - 3s 2ms/step - loss: 0.4669 - accuracy: 0.8198 - val_loss: 0.4696 - val_accuracy: 0.8182\n",
            "Epoch 57/100\n",
            "1680/1680 [==============================] - 3s 2ms/step - loss: 0.4663 - accuracy: 0.8182 - val_loss: 0.4847 - val_accuracy: 0.8174\n",
            "Epoch 58/100\n",
            "1680/1680 [==============================] - 3s 2ms/step - loss: 0.4624 - accuracy: 0.8214 - val_loss: 0.4747 - val_accuracy: 0.8238\n",
            "Epoch 59/100\n",
            "1680/1680 [==============================] - 3s 2ms/step - loss: 0.4625 - accuracy: 0.8201 - val_loss: 0.4966 - val_accuracy: 0.8200\n",
            "Epoch 60/100\n",
            "1680/1680 [==============================] - 3s 2ms/step - loss: 0.4673 - accuracy: 0.8207 - val_loss: 0.4805 - val_accuracy: 0.8241\n",
            "Epoch 61/100\n",
            "1680/1680 [==============================] - 3s 2ms/step - loss: 0.4633 - accuracy: 0.8193 - val_loss: 0.4729 - val_accuracy: 0.8212\n",
            "Epoch 62/100\n",
            "1680/1680 [==============================] - 3s 2ms/step - loss: 0.4647 - accuracy: 0.8199 - val_loss: 0.4693 - val_accuracy: 0.8203\n",
            "Epoch 63/100\n",
            "1680/1680 [==============================] - 3s 2ms/step - loss: 0.4609 - accuracy: 0.8213 - val_loss: 0.5072 - val_accuracy: 0.8174\n",
            "Epoch 64/100\n",
            "1680/1680 [==============================] - 3s 2ms/step - loss: 0.4686 - accuracy: 0.8195 - val_loss: 0.4961 - val_accuracy: 0.8210\n",
            "Epoch 65/100\n",
            "1680/1680 [==============================] - 4s 3ms/step - loss: 0.4733 - accuracy: 0.8190 - val_loss: 0.5022 - val_accuracy: 0.8224\n",
            "Epoch 66/100\n",
            "1680/1680 [==============================] - 3s 2ms/step - loss: 0.4708 - accuracy: 0.8192 - val_loss: 0.4850 - val_accuracy: 0.8220\n",
            "Epoch 67/100\n",
            "1680/1680 [==============================] - 3s 2ms/step - loss: 0.4610 - accuracy: 0.8217 - val_loss: 0.4701 - val_accuracy: 0.8253\n",
            "Epoch 68/100\n",
            "1680/1680 [==============================] - 3s 2ms/step - loss: 0.4658 - accuracy: 0.8223 - val_loss: 0.4740 - val_accuracy: 0.8231\n",
            "Epoch 69/100\n",
            "1680/1680 [==============================] - 3s 2ms/step - loss: 0.4684 - accuracy: 0.8202 - val_loss: 0.4685 - val_accuracy: 0.8153\n",
            "Epoch 70/100\n",
            "1680/1680 [==============================] - 3s 2ms/step - loss: 0.4636 - accuracy: 0.8204 - val_loss: 0.4844 - val_accuracy: 0.8231\n",
            "Epoch 71/100\n",
            "1680/1680 [==============================] - 3s 2ms/step - loss: 0.4656 - accuracy: 0.8211 - val_loss: 0.4605 - val_accuracy: 0.8241\n",
            "Epoch 72/100\n",
            "1680/1680 [==============================] - 3s 2ms/step - loss: 0.4662 - accuracy: 0.8201 - val_loss: 0.4690 - val_accuracy: 0.8241\n",
            "Epoch 73/100\n",
            "1680/1680 [==============================] - 3s 2ms/step - loss: 0.4668 - accuracy: 0.8217 - val_loss: 0.4829 - val_accuracy: 0.8226\n",
            "Epoch 74/100\n",
            "1680/1680 [==============================] - 3s 2ms/step - loss: 0.4691 - accuracy: 0.8212 - val_loss: 0.4652 - val_accuracy: 0.8229\n",
            "Epoch 75/100\n",
            "1680/1680 [==============================] - 3s 2ms/step - loss: 0.4672 - accuracy: 0.8218 - val_loss: 0.4986 - val_accuracy: 0.8241\n",
            "Epoch 76/100\n",
            "1680/1680 [==============================] - 3s 2ms/step - loss: 0.4632 - accuracy: 0.8247 - val_loss: 0.4995 - val_accuracy: 0.8222\n",
            "Epoch 77/100\n",
            "1680/1680 [==============================] - 3s 2ms/step - loss: 0.4728 - accuracy: 0.8205 - val_loss: 0.4751 - val_accuracy: 0.8236\n",
            "Epoch 78/100\n",
            "1680/1680 [==============================] - 3s 2ms/step - loss: 0.4689 - accuracy: 0.8212 - val_loss: 0.4929 - val_accuracy: 0.8208\n",
            "Epoch 79/100\n",
            "1680/1680 [==============================] - 3s 2ms/step - loss: 0.4656 - accuracy: 0.8218 - val_loss: 0.4649 - val_accuracy: 0.8233\n",
            "Epoch 80/100\n",
            "1680/1680 [==============================] - 3s 2ms/step - loss: 0.4630 - accuracy: 0.8225 - val_loss: 0.4869 - val_accuracy: 0.8122\n",
            "Epoch 81/100\n",
            "1680/1680 [==============================] - 3s 2ms/step - loss: 0.4594 - accuracy: 0.8211 - val_loss: 0.4693 - val_accuracy: 0.8205\n",
            "Epoch 82/100\n",
            "1680/1680 [==============================] - 3s 2ms/step - loss: 0.4615 - accuracy: 0.8209 - val_loss: 0.4739 - val_accuracy: 0.8229\n",
            "Epoch 83/100\n",
            "1680/1680 [==============================] - 4s 2ms/step - loss: 0.4609 - accuracy: 0.8214 - val_loss: 0.4722 - val_accuracy: 0.8227\n",
            "Epoch 84/100\n",
            "1680/1680 [==============================] - 3s 2ms/step - loss: 0.4649 - accuracy: 0.8212 - val_loss: 0.4813 - val_accuracy: 0.8224\n",
            "Epoch 85/100\n",
            "1680/1680 [==============================] - 4s 2ms/step - loss: 0.4630 - accuracy: 0.8214 - val_loss: 0.4911 - val_accuracy: 0.8045\n",
            "Epoch 86/100\n",
            "1680/1680 [==============================] - 3s 2ms/step - loss: 0.4674 - accuracy: 0.8232 - val_loss: 0.4917 - val_accuracy: 0.8137\n",
            "Epoch 87/100\n",
            "1680/1680 [==============================] - 4s 2ms/step - loss: 0.4657 - accuracy: 0.8219 - val_loss: 0.4754 - val_accuracy: 0.8229\n",
            "Epoch 88/100\n",
            "1680/1680 [==============================] - 3s 2ms/step - loss: 0.4664 - accuracy: 0.8218 - val_loss: 0.4677 - val_accuracy: 0.8227\n",
            "Epoch 89/100\n",
            "1680/1680 [==============================] - 3s 2ms/step - loss: 0.4806 - accuracy: 0.8214 - val_loss: 0.4753 - val_accuracy: 0.8241\n",
            "Epoch 90/100\n",
            "1680/1680 [==============================] - 3s 2ms/step - loss: 0.4709 - accuracy: 0.8219 - val_loss: 0.5080 - val_accuracy: 0.8227\n",
            "Epoch 91/100\n",
            "1680/1680 [==============================] - 3s 2ms/step - loss: 0.4822 - accuracy: 0.8225 - val_loss: 0.4783 - val_accuracy: 0.8146\n",
            "Epoch 92/100\n",
            "1680/1680 [==============================] - 3s 2ms/step - loss: 0.4723 - accuracy: 0.8219 - val_loss: 0.4850 - val_accuracy: 0.8134\n",
            "Epoch 93/100\n",
            "1680/1680 [==============================] - 4s 2ms/step - loss: 0.4675 - accuracy: 0.8199 - val_loss: 0.4782 - val_accuracy: 0.8236\n",
            "Epoch 94/100\n",
            "1680/1680 [==============================] - 4s 2ms/step - loss: 0.4662 - accuracy: 0.8219 - val_loss: 0.4738 - val_accuracy: 0.8208\n",
            "Epoch 95/100\n",
            "1680/1680 [==============================] - 3s 2ms/step - loss: 0.4634 - accuracy: 0.8213 - val_loss: 0.4779 - val_accuracy: 0.8210\n",
            "Epoch 96/100\n",
            "1680/1680 [==============================] - 3s 2ms/step - loss: 0.4636 - accuracy: 0.8211 - val_loss: 0.4686 - val_accuracy: 0.8217\n",
            "Epoch 97/100\n",
            "1680/1680 [==============================] - 3s 2ms/step - loss: 0.4620 - accuracy: 0.8219 - val_loss: 0.4934 - val_accuracy: 0.8224\n",
            "Epoch 98/100\n",
            "1680/1680 [==============================] - 3s 2ms/step - loss: 0.4701 - accuracy: 0.8216 - val_loss: 0.5158 - val_accuracy: 0.8167\n",
            "Epoch 99/100\n",
            "1680/1680 [==============================] - 3s 2ms/step - loss: 0.4676 - accuracy: 0.8220 - val_loss: 0.4575 - val_accuracy: 0.8220\n",
            "Epoch 100/100\n",
            "1680/1680 [==============================] - 3s 2ms/step - loss: 0.4631 - accuracy: 0.8222 - val_loss: 0.4688 - val_accuracy: 0.8231\n"
          ]
        }
      ]
    },
    {
      "cell_type": "markdown",
      "metadata": {
        "id": "8w7UIdtIWuCD"
      },
      "source": [
        "# Analyze and comment the training results\n"
      ]
    },
    {
      "cell_type": "code",
      "metadata": {
        "colab": {
          "base_uri": "https://localhost:8080/",
          "height": 541
        },
        "id": "IjyBahUIf8IR",
        "outputId": "d6ae50cb-e87a-402f-d539-50e9ae075759"
      },
      "source": [
        "#plot training history\n",
        "\n",
        "from matplotlib import pyplot as plt\n",
        "x_plot = list(range(1,n_epochs+1))\n",
        "\n",
        "def plot_history(network_history):\n",
        "    plt.figure()\n",
        "    plt.xlabel('Epochs')\n",
        "    plt.ylabel('Loss')\n",
        "    plt.plot(x_plot, network_history.history['loss'])\n",
        "    plt.plot(x_plot, network_history.history['val_loss'])\n",
        "    plt.legend(['Training', 'Validation'])\n",
        "\n",
        "    plt.figure()\n",
        "    plt.xlabel('Epochs')\n",
        "    plt.ylabel('Accuracy')\n",
        "    plt.plot(x_plot, network_history.history['accuracy'])\n",
        "    plt.plot(x_plot, network_history.history['val_accuracy'])\n",
        "    plt.legend(['Training', 'Validation'], loc='lower right')\n",
        "    plt.show()\n",
        "\n",
        "plot_history(history)"
      ],
      "execution_count": 41,
      "outputs": [
        {
          "output_type": "display_data",
          "data": {
            "image/png": "[encoded data removed]",
            "text/plain": [
              "<Figure size 432x288 with 1 Axes>"
            ]
          },
          "metadata": {
            "needs_background": "light"
          }
        },
        {
          "output_type": "display_data",
          "data": {
            "image/png": "[encoded data removed]",
            "text/plain": [
              "<Figure size 432x288 with 1 Axes>"
            ]
          },
          "metadata": {
            "needs_background": "light"
          }
        }
      ]
    },
    {
      "cell_type": "code",
      "metadata": {
        "id": "sgGlAIaEJbsO",
        "colab": {
          "base_uri": "https://localhost:8080/"
        },
        "outputId": "af4402b2-58b4-4492-b75d-82fa89ae92a3"
      },
      "source": [
        "# quickly get the performance score\n",
        "score = model.evaluate(x_train, y_train, batch_size=batch_size) #evaluating the models accuracy or loss,\n",
        "print('test loss, test acc:', score)"
      ],
      "execution_count": 44,
      "outputs": [
        {
          "output_type": "stream",
          "name": "stdout",
          "text": [
            "2400/2400 [==============================] - 3s 1ms/step - loss: 0.4595 - accuracy: 0.8229\n",
            "test loss, test acc: [0.459516704082489, 0.8228645920753479]\n"
          ]
        }
      ]
    },
    {
      "cell_type": "code",
      "metadata": {
        "colab": {
          "base_uri": "https://localhost:8080/"
        },
        "id": "KV7N5CeMhT0L",
        "outputId": "385c8764-8e93-482b-9573-b8d3ced8d4d0"
      },
      "source": [
        "print(\"\\n%s: %.2f%%\" % (model.metrics_names[1], score[1]*100))\n",
        "print(\"\\n%s: %.2f\" % (model.metrics_names[0], score[0]))"
      ],
      "execution_count": 45,
      "outputs": [
        {
          "output_type": "stream",
          "name": "stdout",
          "text": [
            "\n",
            "accuracy: 82.29%\n",
            "\n",
            "loss: 0.46\n"
          ]
        }
      ]
    },
    {
      "cell_type": "markdown",
      "metadata": {
        "id": "2jiOZzvyJbsN"
      },
      "source": [
        "# Validate the model and comment the results\n",
        "\n",
        "I risultati del training sono confermati sul set di test.\n",
        "Dalla confusion matrix è possibile vedere che i valori di recall e l'f1-score per i valori veritieri sono bassi."
      ]
    },
    {
      "cell_type": "code",
      "metadata": {
        "id": "wuuHeCb-jUno"
      },
      "source": [
        "predictions = model.predict(x_train_test)"
      ],
      "execution_count": 46,
      "outputs": []
    },
    {
      "cell_type": "code",
      "metadata": {
        "colab": {
          "base_uri": "https://localhost:8080/"
        },
        "id": "O3D6GfmZji93",
        "outputId": "782d4085-1ae3-48f2-89f6-e836558d471f"
      },
      "source": [
        "predictions.shape"
      ],
      "execution_count": 48,
      "outputs": [
        {
          "output_type": "execute_result",
          "data": {
            "text/plain": [
              "(4800, 1)"
            ]
          },
          "metadata": {},
          "execution_count": 48
        }
      ]
    },
    {
      "cell_type": "code",
      "metadata": {
        "id": "dXUE0yJajoF8"
      },
      "source": [
        "yy_train_test = (predictions > 0.5).astype(np.int8)"
      ],
      "execution_count": 51,
      "outputs": []
    },
    {
      "cell_type": "code",
      "metadata": {
        "colab": {
          "base_uri": "https://localhost:8080/"
        },
        "id": "tDDl8HTIjvSf",
        "outputId": "3851a535-669c-49e6-e5c3-be596159ea42"
      },
      "source": [
        "from sklearn.metrics import classification_report\n",
        "print(classification_report(y_train_test,yy_test))"
      ],
      "execution_count": 53,
      "outputs": [
        {
          "output_type": "stream",
          "name": "stdout",
          "text": [
            "              precision    recall  f1-score   support\n",
            "\n",
            "           0       0.83      0.95      0.89      3717\n",
            "           1       0.68      0.34      0.46      1083\n",
            "\n",
            "    accuracy                           0.82      4800\n",
            "   macro avg       0.76      0.65      0.67      4800\n",
            "weighted avg       0.80      0.82      0.79      4800\n",
            "\n"
          ]
        }
      ]
    },
    {
      "cell_type": "code",
      "metadata": {
        "colab": {
          "base_uri": "https://localhost:8080/",
          "height": 445
        },
        "id": "RSOqrVOTkcFM",
        "outputId": "7a0ee223-044f-46df-a5e7-e4736406f721"
      },
      "source": [
        "from sklearn.metrics import confusion_matrix\n",
        "import seaborn as sn\n",
        "\n",
        "cm = confusion_matrix(y_train_test,yy_test,normalize='all')\n",
        "plt.figure(figsize = (10,7))\n",
        "sn.heatmap(cm, annot=True)"
      ],
      "execution_count": 79,
      "outputs": [
        {
          "output_type": "execute_result",
          "data": {
            "text/plain": [
              "<matplotlib.axes._subplots.AxesSubplot at 0x7fd1c86216d0>"
            ]
          },
          "metadata": {},
          "execution_count": 79
        },
        {
          "output_type": "display_data",
          "data": {
            "image/png": "[encoded data removed]",
            "text/plain": [
              "<Figure size 720x504 with 2 Axes>"
            ]
          },
          "metadata": {
            "needs_background": "light"
          }
        }
      ]
    },
    {
      "cell_type": "markdown",
      "metadata": {
        "id": "5MhCwXroWmf9"
      },
      "source": [
        "# Make predictions (on the provided test set)\n",
        "\n",
        "I risultati sono credo verimili anche se facendo il rapporto con y_train le predizioni danno un numero inferiore di valori true."
      ]
    },
    {
      "cell_type": "code",
      "metadata": {
        "id": "fbtA2vJRWpMY"
      },
      "source": [
        "predictions = model.predict(x_test)"
      ],
      "execution_count": 80,
      "outputs": []
    },
    {
      "cell_type": "code",
      "metadata": {
        "id": "s85_TUVRpIbR"
      },
      "source": [
        "yy_test = (predictions > 0.5).astype(np.int8)"
      ],
      "execution_count": 82,
      "outputs": []
    },
    {
      "cell_type": "code",
      "metadata": {
        "colab": {
          "base_uri": "https://localhost:8080/"
        },
        "id": "xWNVgGY2ptjW",
        "outputId": "10f0192e-2784-4ccc-8e38-81adf70d8549"
      },
      "source": [
        "num_zeros = (yy_test == 0).sum()\n",
        "num_ones = (yy_test == 1).sum()\n",
        "num_zeros,num_ones"
      ],
      "execution_count": 99,
      "outputs": [
        {
          "output_type": "execute_result",
          "data": {
            "text/plain": [
              "(5160, 840)"
            ]
          },
          "metadata": {},
          "execution_count": 99
        }
      ]
    },
    {
      "cell_type": "markdown",
      "metadata": {
        "id": "9w-sa4AlaBJg"
      },
      "source": [
        "# OPTIONAL -- Export the predictions in the format indicated in the assignment release page."
      ]
    },
    {
      "cell_type": "code",
      "metadata": {
        "id": "tTPSYsbVaAQ_"
      },
      "source": [
        ""
      ],
      "execution_count": null,
      "outputs": []
    },
    {
      "cell_type": "markdown",
      "metadata": {
        "id": "ubxNAt97Z-Jv"
      },
      "source": [
        "# OPTIONAL -- Implement some regularization methods of your choice and make a comparison between (training/validation) performances of regularized models (also compare with the case of no regularization)\n",
        "\n",
        "Attempts in this section will be taken into account, if well-enough done, to (at least partially) compensate for potential incorrectessness in the mandatory sections. \n",
        "On the other hand, any incorrectessness in _this_ section won't be taken into account in the final score."
      ]
    },
    {
      "cell_type": "code",
      "metadata": {
        "id": "itpvnhdnZ2Yt"
      },
      "source": [
        ""
      ],
      "execution_count": null,
      "outputs": []
    }
  ]
}